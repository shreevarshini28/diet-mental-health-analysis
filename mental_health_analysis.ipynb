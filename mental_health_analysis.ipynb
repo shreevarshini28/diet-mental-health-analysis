{
 "cells": [
  {
   "cell_type": "markdown",
   "id": "9b3f7873",
   "metadata": {},
   "source": [
    "# 🧠 Dietary Impact on Mental Health\n",
    "This notebook explores the relationship between nutrient intake (Omega-3 and Sugar) and mental health scores using Python."
   ]
  },
  {
   "cell_type": "code",
   "execution_count": null,
   "id": "fd28f270",
   "metadata": {},
   "outputs": [],
   "source": [
    "import pandas as pd\n",
    "import matplotlib.pyplot as plt\n",
    "import seaborn as sns"
   ]
  },
  {
   "cell_type": "code",
   "execution_count": null,
   "id": "2182823e",
   "metadata": {},
   "outputs": [],
   "source": [
    "# Load the dataset\n",
    "df = pd.read_csv('diet_mental_health_dataset.csv')\n",
    "df.head()"
   ]
  },
  {
   "cell_type": "code",
   "execution_count": null,
   "id": "e942d182",
   "metadata": {},
   "outputs": [],
   "source": [
    "# Summary statistics\n",
    "df.describe()"
   ]
  },
  {
   "cell_type": "code",
   "execution_count": null,
   "id": "7e2a61ab",
   "metadata": {},
   "outputs": [],
   "source": [
    "# Correlation matrix\n",
    "correlation = df.drop(columns=['Participant_ID']).corr()\n",
    "correlation"
   ]
  },
  {
   "cell_type": "code",
   "execution_count": null,
   "id": "19e8ca02",
   "metadata": {},
   "outputs": [],
   "source": [
    "# Heatmap visualization\n",
    "plt.figure(figsize=(8, 6))\n",
    "sns.heatmap(correlation, annot=True, cmap='coolwarm', fmt='.2f')\n",
    "plt.title('Correlation between Nutrient Intake and Mental Health Score')\n",
    "plt.tight_layout()\n",
    "plt.show()"
   ]
  }
 ],
 "metadata": {},
 "nbformat": 4,
 "nbformat_minor": 5
}
